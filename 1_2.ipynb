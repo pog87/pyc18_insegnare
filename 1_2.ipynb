{
 "cells": [
  {
   "cell_type": "markdown",
   "metadata": {},
   "source": [
    "# 1. Insiemi e logica\n",
    "## 1.2. Gli insiemi in Python\n",
    "Gli insiemi, o set sono degli oggetti iterabili (su cui si può costruire un `for`) che differiscono da `list` e `tuple` per una caratteristica: i suoi elementi non si ripetono e sono ordinati."
   ]
  },
  {
   "cell_type": "code",
   "execution_count": 1,
   "metadata": {},
   "outputs": [
    {
     "name": "stdout",
     "output_type": "stream",
     "text": [
      "[9, 6, 3, 1, 9, 9, 9, 9, 2, 1]\n"
     ]
    }
   ],
   "source": [
    "#questa è una lista\n",
    "a=[9,6,3,1,9,9,9,9,2,1]\n",
    "print(a)"
   ]
  },
  {
   "cell_type": "code",
   "execution_count": 2,
   "metadata": {},
   "outputs": [
    {
     "name": "stdout",
     "output_type": "stream",
     "text": [
      "[1, 1, 2, 3, 6, 9, 9, 9, 9, 9]\n"
     ]
    }
   ],
   "source": [
    "#una lista ordinata\n",
    "print(sorted(a))"
   ]
  },
  {
   "cell_type": "code",
   "execution_count": 3,
   "metadata": {},
   "outputs": [
    {
     "name": "stdout",
     "output_type": "stream",
     "text": [
      "set([9, 2, 3, 6, 1])\n"
     ]
    }
   ],
   "source": [
    "#un insieme set, senza ripetizioni\n",
    "a={9,6,3,1,9,9,9,9,2,1}\n",
    "print(a)"
   ]
  },
  {
   "cell_type": "code",
   "execution_count": 4,
   "metadata": {},
   "outputs": [
    {
     "data": {
      "text/plain": [
       "{1, 5, 32, 51}"
      ]
     },
     "execution_count": 4,
     "metadata": {},
     "output_type": "execute_result"
    }
   ],
   "source": [
    "#posso convertire una lista in un insieme usando la fuzione set\n",
    "set([32,5,5,5,51,1,1])"
   ]
  },
  {
   "cell_type": "code",
   "execution_count": 5,
   "metadata": {},
   "outputs": [
    {
     "name": "stdout",
     "output_type": "stream",
     "text": [
      "set(['A', 'a', 'c', 'b', 'e', 'd', 'i', 'o', 'r'])\n"
     ]
    }
   ],
   "source": [
    "#posso definire un set con un ciclo inline\n",
    "A={a for a in \"Abbecedario\"}\n",
    "print(A)"
   ]
  },
  {
   "cell_type": "code",
   "execution_count": 6,
   "metadata": {},
   "outputs": [
    {
     "name": "stdout",
     "output_type": "stream",
     "text": [
      "set(['a', 'c', 'b', 'e', 'd', 'i', 'o', 'r'])\n"
     ]
    }
   ],
   "source": [
    "#Con attenzione alla distinzione fra maiuscole e gli spazi!\n",
    "A={a for a in \"Abbecedario\".lower()}\n",
    "print(A)"
   ]
  },
  {
   "cell_type": "code",
   "execution_count": 7,
   "metadata": {},
   "outputs": [
    {
     "data": {
      "text/plain": [
       "{'a', 'b', 'c'}"
      ]
     },
     "execution_count": 7,
     "metadata": {},
     "output_type": "execute_result"
    }
   ],
   "source": [
    "#una volta definito un insieme ne posso calcolare un altro dando delle condizioni\n",
    "#in Python le stringhe sono ordinate alfabeticamente\n",
    "{a for a in A if a <'d'}"
   ]
  }
 ],
 "metadata": {
  "kernelspec": {
   "display_name": "Python [default]",
   "language": "python",
   "name": "python2"
  },
  "language_info": {
   "codemirror_mode": {
    "name": "ipython",
    "version": 2
   },
   "file_extension": ".py",
   "mimetype": "text/x-python",
   "name": "python",
   "nbconvert_exporter": "python",
   "pygments_lexer": "ipython2",
   "version": "2.7.14"
  }
 },
 "nbformat": 4,
 "nbformat_minor": 2
}
