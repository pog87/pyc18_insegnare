{
 "cells": [
  {
   "cell_type": "markdown",
   "metadata": {},
   "source": [
    "# Presentazioni\n",
    "![davide](http://dpoggiali.altervista.org/images/davide.jpg)\n",
    "Mi chiamo Davide, sono assegnista postDoc nel Dipartimento di Matematica, Università di Padova.\n",
    "Nel 2017 ho svolto alcune supplenze nelle Scuole Superiori, e ho cominciato a usare Python come supporto integrativo per alcuni moduli didattici. "
   ]
  },
  {
   "cell_type": "markdown",
   "metadata": {},
   "source": [
    "Python è un linguaggio di scripting moderno, versatile ed elegante. La sua curva di apprendimento è considerata poco ripida. Lo ritengo un valido strumento di aiuto didattico per le seguenti ragioni:\n",
    "\n",
    "* Gli studenti vedono applicati i concetti appena appresi sullo schermo (vedi la famosa domanda \"A cosa serve..?\").\n",
    "* L'insegnante riesce con semplici righe di codice ad evidenziare i concetti-chiave.\n",
    "* Alcuni degli studenti si appassionano alla materia, trovando nella programmazione uno sbocco \"naturale\" alle proprie inclinazioni.\n",
    "* La materia guadagna in concretezza agli occhi degli studenti."
   ]
  },
  {
   "cell_type": "markdown",
   "metadata": {},
   "source": [
    "Questo workshop raccoglie una serie di proposte su come organizzare una parte di alcune unità didattiche. A seconda della quantità di tempo che il docente prevede di dedicare, si può decidere di:\n",
    "\n",
    "* Insegnare i rudimenti di Python agli studenti, eventualmente aiutati dai colleghi di informatica.\n",
    "* Mostrare gli esempi di codice senza insegnare il linguaggio, richiedendo in verifica solo l'apprendimento dei concetti-chiave.\n",
    "\n",
    "Inoltre l'uso di Python può rivelarsi utile al docente in fase di preparazione e correzione delle verifiche!"
   ]
  },
  {
   "cell_type": "markdown",
   "metadata": {},
   "source": [
    "Pronti? [Via!](index.ipynb)"
   ]
  }
 ],
 "metadata": {
  "kernelspec": {
   "display_name": "Python [default]",
   "language": "python",
   "name": "python2"
  },
  "language_info": {
   "codemirror_mode": {
    "name": "ipython",
    "version": 2
   },
   "file_extension": ".py",
   "mimetype": "text/x-python",
   "name": "python",
   "nbconvert_exporter": "python",
   "pygments_lexer": "ipython2",
   "version": "2.7.14"
  }
 },
 "nbformat": 4,
 "nbformat_minor": 2
}
