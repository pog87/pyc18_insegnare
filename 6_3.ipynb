{
 "cells": [
  {
   "cell_type": "markdown",
   "metadata": {},
   "source": [
    "# 6. Sistemi di equazioni lineari\n",
    "## 6.3. Verifica"
   ]
  },
  {
   "cell_type": "markdown",
   "metadata": {},
   "source": [
    " <span style=\"color:blue\"> 1)</span> Scrivere la funzione che date due rette r1 ed r2 ne calcoli il punto di intersezione\n",
    "\n",
    "\n",
    "<details>\n",
    "    <summary>__Risposta__</summary>\n",
    "    \n",
    "```python\n",
    "import numpy as np\n",
    "import sympy as s\n",
    "def intersezione(r1,r2):\n",
    "    x,y=s.symbols('x y')\n",
    "    eq1=r1.equation(x,y).as_poly().as_expr()\n",
    "    eq2=r2.equation(x,y).as_poly().as_expr()\n",
    "    a1,b1,c1=eq1.coeff(x), eq1.coeff(y), eq1.subs(x,0).subs(y,0)\n",
    "    a2,b2,c2=eq2.coeff(x), eq2.coeff(y), eq2.subs(x,0).subs(y,0)\n",
    "    A=np.array([[a1,b1],[a2,b2]]); bb=[c1,c2]\n",
    "    return s.Point(np.linalg.solv(A,bb))\n",
    "    \n",
    "```"
   ]
  },
  {
   "cell_type": "code",
   "execution_count": null,
   "metadata": {},
   "outputs": [],
   "source": []
  }
 ],
 "metadata": {
  "kernelspec": {
   "display_name": "Python [default]",
   "language": "python",
   "name": "python2"
  },
  "language_info": {
   "codemirror_mode": {
    "name": "ipython",
    "version": 2
   },
   "file_extension": ".py",
   "mimetype": "text/x-python",
   "name": "python",
   "nbconvert_exporter": "python",
   "pygments_lexer": "ipython2",
   "version": "2.7.14"
  }
 },
 "nbformat": 4,
 "nbformat_minor": 2
}
