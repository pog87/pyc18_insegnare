{
 "cells": [
  {
   "cell_type": "markdown",
   "metadata": {},
   "source": [
    "# 6. Sistemi di equazioni lineari\n",
    "\n",
    "## 6.2. Cramer contro Gauss\n",
    "Il pacchetto numpy ha diversi solutori di equazioni lineari. Vediamoli insieme e cerchiamo di scrivere autonomamente le nostre functions."
   ]
  },
  {
   "cell_type": "code",
   "execution_count": 1,
   "metadata": {},
   "outputs": [],
   "source": [
    "import numpy as np\n",
    "A=np.array([[1,2,3,4.5],[0,2,0,-1],[0,0,1,0],[1.5,0,0,1.4]])\n",
    "b=np.array([1,0,4,1])"
   ]
  },
  {
   "cell_type": "code",
   "execution_count": 2,
   "metadata": {},
   "outputs": [
    {
     "data": {
      "text/plain": [
       "array([ 3.05109489, -1.27737226,  4.        , -2.55474453])"
      ]
     },
     "execution_count": 2,
     "metadata": {},
     "output_type": "execute_result"
    }
   ],
   "source": [
    "np.linalg.solve(A,b)"
   ]
  },
  {
   "cell_type": "code",
   "execution_count": 3,
   "metadata": {},
   "outputs": [
    {
     "data": {
      "text/plain": [
       "array([1., 0., 4., 1.])"
      ]
     },
     "execution_count": 3,
     "metadata": {},
     "output_type": "execute_result"
    }
   ],
   "source": [
    "#vediamo se torna\n",
    "x=np.linalg.solve(A,b)\n",
    "A.dot(x)"
   ]
  },
  {
   "cell_type": "markdown",
   "metadata": {},
   "source": [
    "### Ricordiamo il metodo di Cramer che risolve il sistema lineare $Ax=b$ con i determinanti\n",
    "$$x_i = \\frac{det(A_i)}{det(A)}$$\n",
    "dove A_i è la matrice A in cui ho sotituito l'i-esima colonna di A con il vettore $b$"
   ]
  },
  {
   "cell_type": "code",
   "execution_count": 4,
   "metadata": {},
   "outputs": [],
   "source": [
    "def cramer(A,b):\n",
    "    dtA=np.linalg.det(A)\n",
    "    x=np.zeros(b.shape)\n",
    "    for i in range(len(x)):\n",
    "        Ai=A.copy()\n",
    "        Ai[:,i]=b.reshape(-1)\n",
    "        x[i]=float(np.linalg.det(Ai))/float(dtA)\n",
    "    return x"
   ]
  },
  {
   "cell_type": "code",
   "execution_count": 5,
   "metadata": {},
   "outputs": [
    {
     "data": {
      "text/plain": [
       "array([ 3.05109489, -1.27737226,  4.        , -2.55474453])"
      ]
     },
     "execution_count": 5,
     "metadata": {},
     "output_type": "execute_result"
    }
   ],
   "source": [
    "cramer(A,b)"
   ]
  },
  {
   "cell_type": "code",
   "execution_count": 6,
   "metadata": {},
   "outputs": [
    {
     "data": {
      "text/plain": [
       "array([ 1.0000000e+00, -8.8817842e-16,  4.0000000e+00,  1.0000000e+00])"
      ]
     },
     "execution_count": 6,
     "metadata": {},
     "output_type": "execute_result"
    }
   ],
   "source": [
    "#controlliamo\n",
    "x=cramer(A,b)\n",
    "A.dot(x)"
   ]
  },
  {
   "cell_type": "markdown",
   "metadata": {},
   "source": [
    "Oltre ad un accuratezza minore, verificabile con una qualunque norma vettoriale, Cramer diventa problematicamente lento per sistemi di ordine grande. Il suo costo computazionale è infatti di ordine esponenziale. Questi ragionamenti possono essere riportati agli studenti in modo semplice, in modo da svilupparne pian piano l'intuito computazionale. Si può dire infatti che il determinante è lento da calcolare. Vediamo un esempio."
   ]
  },
  {
   "cell_type": "markdown",
   "metadata": {},
   "source": [
    "### Vediamo adesso il metodo di Gauss:\n",
    "Il Metodo di eliminazione di Gauss (MEG) si prefigge di ridurre una matrice alla forma triangolare superiore (o a scalini) in modo da risolvere il sitema per sostituzione successiva."
   ]
  },
  {
   "cell_type": "code",
   "execution_count": 7,
   "metadata": {},
   "outputs": [],
   "source": [
    "def MEG(A,b):\n",
    "    A=np.array(A,dtype=\"float\")\n",
    "    b=np.array(b,dtype=\"float\")\n",
    "    x=np.zeros(b.shape)\n",
    "    #triangolarizzazione\n",
    "    n=len(b)\n",
    "    for i in range(n-1):\n",
    "        for j in range(i+1,n):\n",
    "            m=A[j,i]/A[i,i]\n",
    "            A[j,i:]-=m*A[i,i:]\n",
    "            b[j]-=m*b[i]\n",
    "    #sostituzioni\n",
    "    x[-1]=b[-1]/A[-1,-1]\n",
    "    for k in range(0,n-1)[::-1]:\n",
    "        x[k]=(b[k]-np.dot(A[k,k+1:],x[k+1:]))/A[k,k]\n",
    "    return x"
   ]
  },
  {
   "cell_type": "code",
   "execution_count": 8,
   "metadata": {},
   "outputs": [
    {
     "data": {
      "text/plain": [
       "array([ 3.05109489, -1.27737226,  4.        , -2.55474453])"
      ]
     },
     "execution_count": 8,
     "metadata": {},
     "output_type": "execute_result"
    }
   ],
   "source": [
    "A=np.array([[1,2,3,4.5],[0,2,0,-1],[0,0,1,0],[1.5,0,0,1.4]])\n",
    "b=np.array([1,0,4,1])\n",
    "MEG(A,b)"
   ]
  },
  {
   "cell_type": "code",
   "execution_count": 9,
   "metadata": {},
   "outputs": [
    {
     "data": {
      "text/plain": [
       "array([1., 0., 4., 1.])"
      ]
     },
     "execution_count": 9,
     "metadata": {},
     "output_type": "execute_result"
    }
   ],
   "source": [
    "x=MEG(A,b)\n",
    "A.dot(x)"
   ]
  },
  {
   "cell_type": "code",
   "execution_count": null,
   "metadata": {},
   "outputs": [],
   "source": []
  }
 ],
 "metadata": {
  "kernelspec": {
   "display_name": "Python [default]",
   "language": "python",
   "name": "python2"
  },
  "language_info": {
   "codemirror_mode": {
    "name": "ipython",
    "version": 2
   },
   "file_extension": ".py",
   "mimetype": "text/x-python",
   "name": "python",
   "nbconvert_exporter": "python",
   "pygments_lexer": "ipython2",
   "version": "2.7.14"
  }
 },
 "nbformat": 4,
 "nbformat_minor": 2
}
