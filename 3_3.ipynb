{
 "cells": [
  {
   "cell_type": "markdown",
   "metadata": {},
   "source": [
    "# 3. Frazioni algebriche\n",
    "\n",
    "## 3.3. verifica!"
   ]
  },
  {
   "cell_type": "markdown",
   "metadata": {},
   "source": [
    " <span style=\"color:blue\"> __1)</span> Data la funzione __\n",
    "```python\n",
    "def somma_fraz(d1,n1,d2,n2):\n",
    "    d=s.lcm(d1,d2)\n",
    "    n=N1*s.factor(D/D1) + N2*s.factor(D/D2)\n",
    "    return s.factor(n/d)\n",
    "```\n",
    "    Scrivere una funzione python che calcoli la somma di tre frazioni algebriche\n",
    "\n",
    "\n",
    "<details>\n",
    "    <summary>__Risposta__</summary>\n",
    "```python\n",
    "def somma_fraz3(d1,n1,d2,n2,d3,n3):\n",
    "    d=s.lcm(s.lcm(d1,d2),d3)\n",
    "    n=n1*s.factor(d/d1) + n2*s.factor(d/d2)+ n3*s.factor(d/d3)\n",
    "    return s.factor(n/d)\n",
    "```\n",
    " "
   ]
  }
 ],
 "metadata": {
  "kernelspec": {
   "display_name": "Python [default]",
   "language": "python",
   "name": "python2"
  },
  "language_info": {
   "codemirror_mode": {
    "name": "ipython",
    "version": 2
   },
   "file_extension": ".py",
   "mimetype": "text/x-python",
   "name": "python",
   "nbconvert_exporter": "python",
   "pygments_lexer": "ipython2",
   "version": "2.7.14"
  }
 },
 "nbformat": 4,
 "nbformat_minor": 2
}
