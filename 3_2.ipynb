{
 "cells": [
  {
   "cell_type": "markdown",
   "metadata": {},
   "source": [
    "# 3. Frazioni algebriche\n",
    "\n",
    "## 3.2. Somma di frazioni algebriche\n",
    "\n",
    "Come tutte le operazioni fra monomi/polinomi, Sympy è capace di gestire autonomamente la somma di frazioni algebriche, ad esempio\n",
    "\n",
    "$$ \\frac{-2x+1}{x}+\\frac{5x}{x^2-x}$$"
   ]
  },
  {
   "cell_type": "code",
   "execution_count": 1,
   "metadata": {},
   "outputs": [],
   "source": [
    "import sympy as s\n",
    "x = s.symbols('x')\n",
    "s.init_printing()"
   ]
  },
  {
   "cell_type": "code",
   "execution_count": 2,
   "metadata": {},
   "outputs": [],
   "source": [
    "a=(-2*x+1)/x\n",
    "b=5*x/(x**2-x)"
   ]
  },
  {
   "cell_type": "code",
   "execution_count": 3,
   "metadata": {},
   "outputs": [
    {
     "data": {
      "image/png": "[encoded data removed]",
      "text/latex": [
       "$$\\frac{5 x}{x^{2} - x} + \\frac{1}{x} \\left(- 2 x + 1\\right)$$"
      ],
      "text/plain": [
       " 5⋅x     -2⋅x + 1\n",
       "────── + ────────\n",
       " 2          x    \n",
       "x  - x           "
      ]
     },
     "execution_count": 3,
     "metadata": {},
     "output_type": "execute_result"
    }
   ],
   "source": [
    "a+b"
   ]
  },
  {
   "cell_type": "code",
   "execution_count": 4,
   "metadata": {},
   "outputs": [
    {
     "data": {
      "image/png": "[encoded data removed]",
      "text/latex": [
       "$$\\frac{- 2 x^{2} + 8 x - 1}{x \\left(x - 1\\right)}$$"
      ],
      "text/plain": [
       "     2          \n",
       "- 2⋅x  + 8⋅x - 1\n",
       "────────────────\n",
       "   x⋅(x - 1)    "
      ]
     },
     "execution_count": 4,
     "metadata": {},
     "output_type": "execute_result"
    }
   ],
   "source": [
    "s.simplify(s.factor(a+b))"
   ]
  },
  {
   "cell_type": "markdown",
   "metadata": {},
   "source": [
    "#### Come possiamo replicare questo risultato?\n",
    "Ricordiamo come si svolge la somma di frazioni algebriche\n",
    "$$\\frac{N1}{D1}+\\frac{N2}{D2}$$\n",
    "per prima cosa trovo il minimo comun divisore (mcm fra i denominatori), poi moltiplico i numeratori per il rapporto fra il rispettivo denominatore e l'mcm."
   ]
  },
  {
   "cell_type": "code",
   "execution_count": 5,
   "metadata": {},
   "outputs": [],
   "source": [
    "N1=-2*x+1\n",
    "D1=x\n",
    "N2=5*x\n",
    "D2=x**2-x"
   ]
  },
  {
   "cell_type": "code",
   "execution_count": 6,
   "metadata": {},
   "outputs": [
    {
     "data": {
      "image/png": "[encoded data removed]",
      "text/latex": [
       "$$x^{2} - x$$"
      ],
      "text/plain": [
       " 2    \n",
       "x  - x"
      ]
     },
     "execution_count": 6,
     "metadata": {},
     "output_type": "execute_result"
    }
   ],
   "source": [
    "D=s.lcm(D1,D2)\n",
    "D"
   ]
  },
  {
   "cell_type": "code",
   "execution_count": 7,
   "metadata": {},
   "outputs": [
    {
     "data": {
      "image/png": "[encoded data removed]",
      "text/latex": [
       "$$5 x + \\left(- 2 x + 1\\right) \\left(x - 1\\right)$$"
      ],
      "text/plain": [
       "5⋅x + (-2⋅x + 1)⋅(x - 1)"
      ]
     },
     "execution_count": 7,
     "metadata": {},
     "output_type": "execute_result"
    }
   ],
   "source": [
    "N1*s.factor(D/D1) + N2*s.factor(D/D2) #purtroppo la dipendenza da factor non è rimuovibile!"
   ]
  },
  {
   "cell_type": "markdown",
   "metadata": {},
   "source": [
    "### Mettiamo tutto in una funzione e testiamola.."
   ]
  },
  {
   "cell_type": "code",
   "execution_count": 8,
   "metadata": {},
   "outputs": [],
   "source": [
    "def somma_fraz(d1,n1,d2,n2):\n",
    "    d=s.lcm(d1,d2)\n",
    "    n=n1*s.factor(d/d1) + n2*s.factor(d/d2)\n",
    "    return s.factor(n/d)"
   ]
  },
  {
   "cell_type": "code",
   "execution_count": 9,
   "metadata": {},
   "outputs": [
    {
     "data": {
      "image/png": "[encoded data removed]",
      "text/latex": [
       "$$- \\frac{2 x^{2} - 8 x + 1}{x \\left(x - 1\\right)}$$"
      ],
      "text/plain": [
       " ⎛   2          ⎞ \n",
       "-⎝2⋅x  - 8⋅x + 1⎠ \n",
       "──────────────────\n",
       "    x⋅(x - 1)     "
      ]
     },
     "execution_count": 9,
     "metadata": {},
     "output_type": "execute_result"
    }
   ],
   "source": [
    "somma_fraz(D1,N1,D2,N2)"
   ]
  }
 ],
 "metadata": {
  "kernelspec": {
   "display_name": "Python [default]",
   "language": "python",
   "name": "python2"
  },
  "language_info": {
   "codemirror_mode": {
    "name": "ipython",
    "version": 2
   },
   "file_extension": ".py",
   "mimetype": "text/x-python",
   "name": "python",
   "nbconvert_exporter": "python",
   "pygments_lexer": "ipython2",
   "version": "2.7.14"
  }
 },
 "nbformat": 4,
 "nbformat_minor": 2
}
