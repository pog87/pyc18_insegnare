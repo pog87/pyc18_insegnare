{
 "cells": [
  {
   "cell_type": "markdown",
   "metadata": {},
   "source": [
    "# 5. Coniche\n",
    "## 5.2. Tangenti per un punto"
   ]
  },
  {
   "cell_type": "markdown",
   "metadata": {},
   "source": [
    "Un buon esercizio da assegnare o da mostrare in classe è trovare le tangenti ad una conica passanti per un punto $(x_0,y_0)$. Vediamo insieme come fare:\n",
    "\n",
    "Prima di tutto occorre scivere la retta generica per quel punto $y=y_0 + m(x-x_0)$. Occorre poi sostituire quest'espressione nell'equazione, porre $\\Delta = 0$ e risovere per $m$. Vediamo come fare in Python..."
   ]
  },
  {
   "cell_type": "code",
   "execution_count": 1,
   "metadata": {},
   "outputs": [],
   "source": [
    "import sympy as s\n",
    "x,y=s.symbols('x, y')"
   ]
  },
  {
   "cell_type": "code",
   "execution_count": 2,
   "metadata": {},
   "outputs": [],
   "source": [
    "PP=s.Parabola(s.Point(0,0),s.Line(s.Point(1,1),slope=0))"
   ]
  },
  {
   "cell_type": "code",
   "execution_count": 3,
   "metadata": {},
   "outputs": [],
   "source": [
    "P=s.Point([1,2]) #x0=P[0]=1, y0=P[1]=1"
   ]
  },
  {
   "cell_type": "code",
   "execution_count": 4,
   "metadata": {},
   "outputs": [],
   "source": [
    "m=s.symbols('m')"
   ]
  },
  {
   "cell_type": "markdown",
   "metadata": {},
   "source": [
    "Ricaviamo le equazioni e sostituiamo a y la retta generica"
   ]
  },
  {
   "cell_type": "code",
   "execution_count": 5,
   "metadata": {},
   "outputs": [
    {
     "data": {
      "text/plain": [
       "-x**2 - 2*y + 1"
      ]
     },
     "execution_count": 5,
     "metadata": {},
     "output_type": "execute_result"
    }
   ],
   "source": [
    "PP.equation(x,y)"
   ]
  },
  {
   "cell_type": "code",
   "execution_count": 6,
   "metadata": {},
   "outputs": [
    {
     "data": {
      "text/plain": [
       "-2*m*(x - 1) - x**2 - 3"
      ]
     },
     "execution_count": 6,
     "metadata": {},
     "output_type": "execute_result"
    }
   ],
   "source": [
    "eq=PP.equation(x,y)\n",
    "eq.subs(y, m*(x-P[0])+P[1])"
   ]
  },
  {
   "cell_type": "code",
   "execution_count": 7,
   "metadata": {},
   "outputs": [
    {
     "data": {
      "text/plain": [
       "-2*m*x + 2*m - x**2 - 3"
      ]
     },
     "execution_count": 7,
     "metadata": {},
     "output_type": "execute_result"
    }
   ],
   "source": [
    "eq2=eq.subs(y, m*(x-P[0])+P[1]).as_poly(x).as_expr(x)\n",
    "eq2"
   ]
  },
  {
   "cell_type": "markdown",
   "metadata": {},
   "source": [
    "Scriviamoci i coefficienti"
   ]
  },
  {
   "cell_type": "code",
   "execution_count": 8,
   "metadata": {},
   "outputs": [],
   "source": [
    "a,b,c=eq2.coeff(x**2), eq2.coeff(x), eq2.subs(x,0)"
   ]
  },
  {
   "cell_type": "code",
   "execution_count": 9,
   "metadata": {},
   "outputs": [
    {
     "name": "stdout",
     "output_type": "stream",
     "text": [
      "(-1, -2*m, 2*m - 3)\n"
     ]
    }
   ],
   "source": [
    "print(a,b,c)"
   ]
  },
  {
   "cell_type": "markdown",
   "metadata": {},
   "source": [
    "Risolviamo per m usando il sover di sympy (in alternativa la funzione secondogrado andrà bene)"
   ]
  },
  {
   "cell_type": "code",
   "execution_count": 10,
   "metadata": {},
   "outputs": [
    {
     "data": {
      "text/plain": [
       "[-1/4 + sqrt(13)/4, -sqrt(13)/4 - 1/4]"
      ]
     },
     "execution_count": 10,
     "metadata": {},
     "output_type": "execute_result"
    }
   ],
   "source": [
    "s.solve(b**2-a*c,m)"
   ]
  },
  {
   "cell_type": "code",
   "execution_count": 11,
   "metadata": {},
   "outputs": [],
   "source": [
    "M=s.solve(b**2-a*c,m)"
   ]
  },
  {
   "cell_type": "markdown",
   "metadata": {},
   "source": [
    "Ottenuti i valori di m (possono essere nessuno, uno o due) scriviamo la retta corrispondente, quella con slope m e intercetta $-m x_0+y_0$"
   ]
  },
  {
   "cell_type": "code",
   "execution_count": 12,
   "metadata": {},
   "outputs": [],
   "source": [
    "def retta(m,q):\n",
    "    return s.Line(s.Point(0,q),slope=m)"
   ]
  },
  {
   "cell_type": "code",
   "execution_count": 13,
   "metadata": {},
   "outputs": [
    {
     "data": {
      "text/plain": [
       "[Line2D(Point2D(0, -sqrt(13)/4 + 9/4), Point2D(1, 2)),\n",
       " Line2D(Point2D(0, sqrt(13)/4 + 9/4), Point2D(1, 2))]"
      ]
     },
     "execution_count": 13,
     "metadata": {},
     "output_type": "execute_result"
    }
   ],
   "source": [
    "[retta(m,-m*P[0]+P[1]) for m in M]"
   ]
  },
  {
   "cell_type": "code",
   "execution_count": 14,
   "metadata": {},
   "outputs": [
    {
     "data": {
      "text/plain": [
       "[x*(-sqrt(13)/4 + 1/4) + y - 7/4 - sqrt(13)/4,\n",
       " x*(1/4 + sqrt(13)/4) + y - 7/4 + sqrt(13)/4]"
      ]
     },
     "execution_count": 14,
     "metadata": {},
     "output_type": "execute_result"
    }
   ],
   "source": [
    "#oppure possiamo vedere le equazioni\n",
    "[retta(m,m*P[0]+P[1]).equation() for m in M]"
   ]
  },
  {
   "cell_type": "markdown",
   "metadata": {},
   "source": [
    "### Ora possiamo portare tutto in una function"
   ]
  },
  {
   "cell_type": "code",
   "execution_count": 15,
   "metadata": {},
   "outputs": [],
   "source": [
    "def tangenti(CC,P):\n",
    "    # CC è una conica, P un punto\n",
    "    # in outout le rette tangenti a CC passanti per P\n",
    "    x,y=s.symbols('x y')\n",
    "    m=s.symbols('m')\n",
    "    eq=CC.equation(x,y)\n",
    "    eq2=eq.subs(y, m*(x-P[0])+P[1]).as_poly(x).as_expr(x)\n",
    "    a,b,c=eq2.coeff(x**2), eq2.coeff(x), eq2.subs(x,0)\n",
    "    M=s.solve(b**2-a*c,m)\n",
    "    return [retta(m,-m*P[0]+P[1]) for m in M]"
   ]
  },
  {
   "cell_type": "code",
   "execution_count": 16,
   "metadata": {},
   "outputs": [
    {
     "data": {
      "text/plain": [
       "[Line2D(Point2D(0, 3), Point2D(1, -sqrt(5)/2 + 3)),\n",
       " Line2D(Point2D(0, 3), Point2D(1, sqrt(5)/2 + 3))]"
      ]
     },
     "execution_count": 16,
     "metadata": {},
     "output_type": "execute_result"
    }
   ],
   "source": [
    "# test\n",
    "tangenti(PP,s.Point([0,3]))"
   ]
  },
  {
   "cell_type": "code",
   "execution_count": 17,
   "metadata": {},
   "outputs": [
    {
     "data": {
      "text/plain": [
       "[sqrt(5)*x/2 + y - 3, -sqrt(5)*x/2 + y - 3]"
      ]
     },
     "execution_count": 17,
     "metadata": {},
     "output_type": "execute_result"
    }
   ],
   "source": [
    "#vediamo le equazioni\n",
    "[l.equation() for l in tangenti(PP,s.Point([0,3]))]"
   ]
  },
  {
   "cell_type": "markdown",
   "metadata": {},
   "source": [
    "## Bonus: dalle equazioni alle rette e coniche\n",
    "Dato che l'impostazione scolastica privilegia le equazioni come modo di rappresentare le rette e le coniche, è naturale chiedere ad una function di passare dall'equazione all'oggetto sympy. Questa feature non è presente in sympy, ma possiamo costruirla noi."
   ]
  },
  {
   "cell_type": "code",
   "execution_count": 18,
   "metadata": {},
   "outputs": [
    {
     "data": {
      "text/plain": [
       "-x + y/3 + 1/3"
      ]
     },
     "execution_count": 18,
     "metadata": {},
     "output_type": "execute_result"
    }
   ],
   "source": [
    "#cominciamo con le rette: le rette sono definite da due punti, quindi basta trovare le interesezioni con gli assi!\n",
    "eq=-y+3*x-1\n",
    "P1=[0,s.solve(eq.subs(x,0),y)[0]]\n",
    "P2=[s.solve(eq.subs(y,0),x)[0],0]\n",
    "r=s.Line(P1,P2)\n",
    "r.equation()"
   ]
  },
  {
   "cell_type": "code",
   "execution_count": 19,
   "metadata": {},
   "outputs": [],
   "source": [
    "#in generale\n",
    "def eq2retta(eq):\n",
    "    P1=[0,s.solve(eq.subs(x,0),y)[0]]\n",
    "    P2=[s.solve(eq.subs(y,0),x)[0],0]\n",
    "    return s.Line(P1,P2)"
   ]
  },
  {
   "cell_type": "markdown",
   "metadata": {},
   "source": [
    "Fin qui è stato facile...vediamo la parabola nel caso $y=ax^2 +bx +c$. In sympy è definita dal fuoco e dalla direttrice.\n",
    "\n",
    "Il fuoco è $$F=\\left(-\\frac{b}{2a}; \\frac{1-\\Delta}{4a}\\right)$$ mentre la direttrice $$y= -\\frac{1+\\Delta}{4a}$$"
   ]
  },
  {
   "cell_type": "code",
   "execution_count": 20,
   "metadata": {},
   "outputs": [],
   "source": [
    "def eq2parabola(eq):\n",
    "    #qui si suppone che il coefficiente di y sia -1\n",
    "    a,b,c=eq.coeff(x**2), eq.coeff(x), eq.subs(x,0).subs(y,0)\n",
    "    Delta=b**2-4*a*c\n",
    "    F=s.Point(-(b)/(2*a),(1-Delta)/(4*a))\n",
    "    direct=s.Line(s.Point(0,-(1+Delta)/(4*a)),slope=0)\n",
    "    return s.Parabola(F,direct)"
   ]
  },
  {
   "cell_type": "code",
   "execution_count": 21,
   "metadata": {},
   "outputs": [],
   "source": [
    "eq=-y+x**2-1"
   ]
  },
  {
   "cell_type": "code",
   "execution_count": 22,
   "metadata": {},
   "outputs": [
    {
     "data": {
      "text/plain": [
       "Parabola(Point2D(0, -3/4), Line2D(Point2D(0, -5/4), Point2D(1, -5/4)))"
      ]
     },
     "execution_count": 22,
     "metadata": {},
     "output_type": "execute_result"
    }
   ],
   "source": [
    "eq2parabola(eq)"
   ]
  },
  {
   "cell_type": "code",
   "execution_count": 23,
   "metadata": {},
   "outputs": [
    {
     "data": {
      "text/plain": [
       "-x**2 + y + 1"
      ]
     },
     "execution_count": 23,
     "metadata": {},
     "output_type": "execute_result"
    }
   ],
   "source": [
    "eq2parabola(eq).equation()"
   ]
  }
 ],
 "metadata": {
  "kernelspec": {
   "display_name": "Python [default]",
   "language": "python",
   "name": "python2"
  },
  "language_info": {
   "codemirror_mode": {
    "name": "ipython",
    "version": 2
   },
   "file_extension": ".py",
   "mimetype": "text/x-python",
   "name": "python",
   "nbconvert_exporter": "python",
   "pygments_lexer": "ipython2",
   "version": "2.7.14"
  }
 },
 "nbformat": 4,
 "nbformat_minor": 2
}
