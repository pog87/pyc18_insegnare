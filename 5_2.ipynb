{
 "cells": [
  {
   "cell_type": "markdown",
   "metadata": {},
   "source": [
    "# 5. Coniche\n",
    "## 5.2. Verifica"
   ]
  },
  {
   "cell_type": "markdown",
   "metadata": {},
   "source": [
    " <span style=\"color:blue\"> 1)</span> Scrivere la funzione che calcoli l'eccentricità di una ellisse\n",
    "\n",
    "\n",
    "<details>\n",
    "    <summary>__Risposta__</summary>\n",
    "    \n",
    "```python\n",
    "def eccentr(E):\n",
    "    return E.focus_distance* E.semilatus_rectum\n",
    "```"
   ]
  },
  {
   "cell_type": "markdown",
   "metadata": {},
   "source": [
    " <span style=\"color:blue\"> 2)</span> Scrivere la funzione che stabilisca se una retta è tangente o meno ad una conica\n",
    "\n",
    "\n",
    "<details>\n",
    "    <summary>__Risposta__</summary>\n",
    "```python\n",
    "def tangente(C,r):\n",
    "    x,y=s.symbols('x y')\n",
    "    eq=C.equation(x,y)\n",
    "    c=r.coefficients\n",
    "    m,q=-c[0]/c[1], -c[2]/c[1]\n",
    "    eq2=eq.subs(y,m*x+q).as_poly().as_expr()\n",
    "    a,b,c=eq2.coeff(x**2), eq2.coeff(x), eq2.subs(x,0)\n",
    "    return b**2-4*a*c==0\n",
    "```"
   ]
  }
 ],
 "metadata": {
  "kernelspec": {
   "display_name": "Python 2",
   "language": "python",
   "name": "python2"
  },
  "language_info": {
   "codemirror_mode": {
    "name": "ipython",
    "version": 2
   },
   "file_extension": ".py",
   "mimetype": "text/x-python",
   "name": "python",
   "nbconvert_exporter": "python",
   "pygments_lexer": "ipython2",
   "version": "2.7.14"
  }
 },
 "nbformat": 4,
 "nbformat_minor": 2
}
