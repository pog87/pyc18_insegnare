{
 "cells": [
  {
   "cell_type": "markdown",
   "metadata": {},
   "source": [
    "# 7. Studio di funzione\n",
    "## 7.3. Verifica"
   ]
  },
  {
   "cell_type": "markdown",
   "metadata": {},
   "source": [
    " <span style=\"color:blue\"> 1)</span> Scrivere la funzione che risolva un limite della forma $\\frac{0}{0}$ attraverso il Teorema di De l'Hôpital\n",
    "\n",
    "<details>\n",
    "    <summary>__Risposta__</summary>\n",
    "    \n",
    "```python\n",
    "import sympy as s\n",
    "def delopital(D,N,x,x0):\n",
    "    d=s.limit(D,x,x0); n=s.limit(N,x,x0)\n",
    "    while d==0 and n==0:\n",
    "        D=D.diff(x); N=N.diff(x)\n",
    "        d=s.limit(D,x,x0); n=s.limit(N,x,x0)\n",
    "    if d==0:\n",
    "        return 0\n",
    "    elif n==0:\n",
    "        return s.oo\n",
    "    else:\n",
    "        return d/n\n",
    "    \n",
    "```"
   ]
  }
 ],
 "metadata": {
  "kernelspec": {
   "display_name": "Python [default]",
   "language": "python",
   "name": "python2"
  },
  "language_info": {
   "codemirror_mode": {
    "name": "ipython",
    "version": 2
   },
   "file_extension": ".py",
   "mimetype": "text/x-python",
   "name": "python",
   "nbconvert_exporter": "python",
   "pygments_lexer": "ipython2",
   "version": "2.7.14"
  }
 },
 "nbformat": 4,
 "nbformat_minor": 2
}
