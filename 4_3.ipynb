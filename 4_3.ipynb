{
 "cells": [
  {
   "cell_type": "markdown",
   "metadata": {},
   "source": [
    "# 4. Geometria cartesiana\n",
    "\n",
    "## 4.3 Verifica!"
   ]
  },
  {
   "cell_type": "markdown",
   "metadata": {},
   "source": [
    " <span style=\"color:blue\"> 1)</span> Data la funzione `coefficients`, si scriva una funzione che, data una retta calcoli coefficiente angolare m e l'intercetta **senza usare `slope`**\n",
    "\n",
    "\n",
    "<details>\n",
    "    <summary>__Risposta__</summary>\n",
    "```python\n",
    "def implicita(r):\n",
    "    c=r.coefficients\n",
    "    return s.Rational(-c[0]/c[1]), s.Rational(-c[2]/c[1])\n",
    "```"
   ]
  },
  {
   "cell_type": "markdown",
   "metadata": {},
   "source": [
    " <span style=\"color:blue\"> 2)</span> Utilizzare la funzione del punto precedente per calcolare i punti di intersezione fra una circonferenze e una retta (difficile)\n",
    "\n",
    "\n",
    "<details>\n",
    "    <summary>__Risposta__</summary>\n",
    "```python\n",
    "def secondogrado(a,b,c):\n",
    "    if a==0:\n",
    "        return [-s.Rational(c,b)]\n",
    "    Delta=b**2-4*a*c\n",
    "    if Delta <0:\n",
    "        return []\n",
    "    elif Delta==0:\n",
    "        return [-b/(2*a)]\n",
    "    else:\n",
    "        return [(-b-s.sqrt(Delta))/(2*a),(-b+s.sqrt(Delta))/(2*a)]\n",
    "                 \n",
    "def circ_retta(C,r):\n",
    "    x,y=s.symbols('x y')\n",
    "    eq=C.equation(x,y)\n",
    "    m,q=implicita(r)\n",
    "    eq2=eq.subs(y,m*x+q).as_poly().as_expr()\n",
    "    a,b,c=eq2.coeff(x**2), eq2.coeff(x), eq2.subs(x,0)\n",
    "    xlist=secondogrado(a,b,c)\n",
    "    return [s.Point(x_,m*x_+q) for x_ in xlist]\n",
    "    \n",
    "```"
   ]
  },
  {
   "cell_type": "code",
   "execution_count": null,
   "metadata": {},
   "outputs": [],
   "source": []
  }
 ],
 "metadata": {
  "kernelspec": {
   "display_name": "Python [default]",
   "language": "python",
   "name": "python2"
  },
  "language_info": {
   "codemirror_mode": {
    "name": "ipython",
    "version": 2
   },
   "file_extension": ".py",
   "mimetype": "text/x-python",
   "name": "python",
   "nbconvert_exporter": "python",
   "pygments_lexer": "ipython2",
   "version": "2.7.14"
  }
 },
 "nbformat": 4,
 "nbformat_minor": 2
}
