{
 "cells": [
  {
   "cell_type": "markdown",
   "metadata": {},
   "source": [
    "# 3. Frazioni algebriche\n",
    "\n",
    "## 3.1. MCD e mcm\n",
    "Il pacchetto Sympy ha anche delle funzioni per calcolare MCD e mcm di monomi e polinomi"
   ]
  },
  {
   "cell_type": "code",
   "execution_count": 1,
   "metadata": {},
   "outputs": [],
   "source": [
    "import sympy as s\n",
    "x, y, z = s.symbols('x y z')\n",
    "s.init_printing()"
   ]
  },
  {
   "cell_type": "code",
   "execution_count": 2,
   "metadata": {},
   "outputs": [],
   "source": [
    "a=s.Poly(7*x**3)\n",
    "b=s.Poly(-2*y*x**2)"
   ]
  },
  {
   "cell_type": "code",
   "execution_count": 3,
   "metadata": {},
   "outputs": [
    {
     "data": {
      "image/png": "[encoded data removed]",
      "text/latex": [
       "$$\\operatorname{Poly}{\\left( x^{2}, x, y, domain=\\mathbb{Z} \\right)}$$"
      ],
      "text/plain": [
       "Poly(x**2, x, y, domain='ZZ')"
      ]
     },
     "execution_count": 3,
     "metadata": {},
     "output_type": "execute_result"
    }
   ],
   "source": [
    "s.gcd(a,b)"
   ]
  },
  {
   "cell_type": "code",
   "execution_count": 4,
   "metadata": {},
   "outputs": [
    {
     "data": {
      "image/png": "[encoded data removed]",
      "text/latex": [
       "$$\\operatorname{Poly}{\\left( - 14 x^{3} y, x, y, domain=\\mathbb{Z} \\right)}$$"
      ],
      "text/plain": [
       "Poly(-14*x**3*y, x, y, domain='ZZ')"
      ]
     },
     "execution_count": 4,
     "metadata": {},
     "output_type": "execute_result"
    }
   ],
   "source": [
    "s.lcm(a,b)"
   ]
  },
  {
   "cell_type": "markdown",
   "metadata": {},
   "source": [
    "### Come potete vedere, qui le regole (complesse) dei libri di testo italiani sono applicate\n",
    "Ossia se i coefficienti sono interi, si usa MCD e mcm dei coefficienti, altrimenti si usa 1"
   ]
  },
  {
   "cell_type": "code",
   "execution_count": 5,
   "metadata": {},
   "outputs": [],
   "source": [
    "a=s.Poly(7.*x**3)\n",
    "b=s.Poly(-2.*y*x**2)"
   ]
  },
  {
   "cell_type": "code",
   "execution_count": 6,
   "metadata": {},
   "outputs": [
    {
     "data": {
      "image/png": "[encoded data removed]",
      "text/latex": [
       "$$\\operatorname{Poly}{\\left( 1.0 x^{2}, x, y, domain=\\mathbb{R} \\right)}$$"
      ],
      "text/plain": [
       "Poly(1.0*x**2, x, y, domain='RR')"
      ]
     },
     "execution_count": 6,
     "metadata": {},
     "output_type": "execute_result"
    }
   ],
   "source": [
    "s.gcd(a,b)"
   ]
  },
  {
   "cell_type": "code",
   "execution_count": 7,
   "metadata": {},
   "outputs": [
    {
     "data": {
      "image/png": "[encoded data removed]",
      "text/latex": [
       "$$\\operatorname{Poly}{\\left( 1.0 x^{3} y, x, y, domain=\\mathbb{R} \\right)}$$"
      ],
      "text/plain": [
       "Poly(1.0*x**3*y, x, y, domain='RR')"
      ]
     },
     "execution_count": 7,
     "metadata": {},
     "output_type": "execute_result"
    }
   ],
   "source": [
    "s.lcm(a,b)"
   ]
  },
  {
   "cell_type": "code",
   "execution_count": 8,
   "metadata": {},
   "outputs": [],
   "source": [
    "a=s.Poly(7.*x**3,domain='QQ')\n",
    "b=s.Poly(-2.*y*x**2,domain='QQ')"
   ]
  },
  {
   "cell_type": "code",
   "execution_count": 9,
   "metadata": {},
   "outputs": [
    {
     "data": {
      "image/png": "[encoded data removed]",
      "text/latex": [
       "$$\\operatorname{Poly}{\\left( x^{2}, x, y, domain=\\mathbb{Q} \\right)}$$"
      ],
      "text/plain": [
       "Poly(x**2, x, y, domain='QQ')"
      ]
     },
     "execution_count": 9,
     "metadata": {},
     "output_type": "execute_result"
    }
   ],
   "source": [
    "s.gcd(a,b)"
   ]
  },
  {
   "cell_type": "code",
   "execution_count": 10,
   "metadata": {},
   "outputs": [
    {
     "data": {
      "image/png": "[encoded data removed]",
      "text/latex": [
       "$$\\operatorname{Poly}{\\left( x^{3} y, x, y, domain=\\mathbb{Q} \\right)}$$"
      ],
      "text/plain": [
       "Poly(x**3*y, x, y, domain='QQ')"
      ]
     },
     "execution_count": 10,
     "metadata": {},
     "output_type": "execute_result"
    }
   ],
   "source": [
    "s.lcm(a,b)"
   ]
  },
  {
   "cell_type": "markdown",
   "metadata": {},
   "source": [
    "#### Volendo, anche queste funzioni possono essere riscritte per scopi didattici, utilizzando come base le funzioni definite nell'unità precedente"
   ]
  }
 ],
 "metadata": {
  "kernelspec": {
   "display_name": "Python [default]",
   "language": "python",
   "name": "python2"
  },
  "language_info": {
   "codemirror_mode": {
    "name": "ipython",
    "version": 2
   },
   "file_extension": ".py",
   "mimetype": "text/x-python",
   "name": "python",
   "nbconvert_exporter": "python",
   "pygments_lexer": "ipython2",
   "version": "2.7.14"
  }
 },
 "nbformat": 4,
 "nbformat_minor": 2
}
