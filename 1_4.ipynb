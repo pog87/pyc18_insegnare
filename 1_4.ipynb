{
 "cells": [
  {
   "cell_type": "markdown",
   "metadata": {},
   "source": [
    "# 1. Insiemi e logica\n",
    "## 1.4. Ridefinire per comprendere\n",
    "Ovviamente sarebbe molto brutto mostrare agli studenti una macchina risolvi-problemi per poi proibirne l'uso in verifica. Qui sta l'abilità del docente nel mostrare agli studenti come prendere il controllo della situazione e non limitarsi all'uso passivo del computer. Infatti adesso abbiamo tutti gli elementi per definire delle fuzioni che resituiscano unione intersezione ecc.."
   ]
  },
  {
   "cell_type": "markdown",
   "metadata": {},
   "source": [
    "#### Ricordiamo la definizione di unione:\n",
    "$$A\\cup B = \\left\\lbrace x | x\\in A \\mbox{  or  } x\\in B \\right\\rbrace$$"
   ]
  },
  {
   "cell_type": "code",
   "execution_count": 1,
   "metadata": {},
   "outputs": [],
   "source": [
    "#usiamola per dare la definizione di unione\n",
    "def unione(A,B):\n",
    "    return {x for x in list(A)+list(B) if x in A or x in B}"
   ]
  },
  {
   "cell_type": "code",
   "execution_count": 2,
   "metadata": {},
   "outputs": [],
   "source": [
    "#oppure con qualche riga in più, questa funzionerà solo per gli insiemi contenenti numeri\n",
    "def unione2(A,B):\n",
    "    m=min(min(A),min(B))\n",
    "    M=max(max(A),max(B))+1\n",
    "    return {x for x in range(m,M) if x in A or x in B}"
   ]
  },
  {
   "cell_type": "markdown",
   "metadata": {},
   "source": [
    "Entrambe queste definizioni sono sì ridondanti e poco ottimizzate, ma offrono allo studente il modo di vedere applicata per la prima volta una definizione formale."
   ]
  },
  {
   "cell_type": "code",
   "execution_count": 3,
   "metadata": {},
   "outputs": [],
   "source": [
    "#Verifichiamo il funzionamento su una coppia di insiemi\n",
    "UNO={1,5,7,8}\n",
    "DUE={2,4,6,8}"
   ]
  },
  {
   "cell_type": "code",
   "execution_count": 4,
   "metadata": {},
   "outputs": [
    {
     "data": {
      "text/plain": [
       "True"
      ]
     },
     "execution_count": 4,
     "metadata": {},
     "output_type": "execute_result"
    }
   ],
   "source": [
    "unione(UNO,DUE)==UNO|DUE"
   ]
  },
  {
   "cell_type": "code",
   "execution_count": 5,
   "metadata": {},
   "outputs": [
    {
     "data": {
      "text/plain": [
       "True"
      ]
     },
     "execution_count": 5,
     "metadata": {},
     "output_type": "execute_result"
    }
   ],
   "source": [
    "unione2(UNO,DUE)==UNO|DUE"
   ]
  },
  {
   "cell_type": "markdown",
   "metadata": {},
   "source": [
    "#### Ripetiamo la stessa cosa con l'intersezione\n",
    "$$A\\cap B = \\left\\lbrace x | x\\in A \\mbox{  and  } x\\in B \\right\\rbrace$$"
   ]
  },
  {
   "cell_type": "code",
   "execution_count": 7,
   "metadata": {},
   "outputs": [],
   "source": [
    "#usiamola per dare la definizione di intersezione\n",
    "def intersezione(A,B):\n",
    "    return {x for x in list(A)+list(B) if x in A and x in B}"
   ]
  },
  {
   "cell_type": "code",
   "execution_count": 8,
   "metadata": {},
   "outputs": [],
   "source": [
    "#E verifichiamola\n",
    "Z1={a for a in \"sonounhacker\"}\n",
    "Z2={a for a in \"mammaguardami\"}"
   ]
  },
  {
   "cell_type": "code",
   "execution_count": 10,
   "metadata": {},
   "outputs": [
    {
     "data": {
      "text/plain": [
       "{'a', 'r', 'u'}"
      ]
     },
     "execution_count": 10,
     "metadata": {},
     "output_type": "execute_result"
    }
   ],
   "source": [
    "intersezione(Z1,Z2)"
   ]
  },
  {
   "cell_type": "code",
   "execution_count": 9,
   "metadata": {},
   "outputs": [
    {
     "data": {
      "text/plain": [
       "True"
      ]
     },
     "execution_count": 9,
     "metadata": {},
     "output_type": "execute_result"
    }
   ],
   "source": [
    "intersezione(Z1,Z2)==Z1&Z2"
   ]
  },
  {
   "cell_type": "markdown",
   "metadata": {},
   "source": [
    "### Compito: dare le definizioni di differenza e differenza simmetrica, e verificarle"
   ]
  }
 ],
 "metadata": {
  "kernelspec": {
   "display_name": "Python [default]",
   "language": "python",
   "name": "python2"
  },
  "language_info": {
   "codemirror_mode": {
    "name": "ipython",
    "version": 2
   },
   "file_extension": ".py",
   "mimetype": "text/x-python",
   "name": "python",
   "nbconvert_exporter": "python",
   "pygments_lexer": "ipython2",
   "version": "2.7.14"
  }
 },
 "nbformat": 4,
 "nbformat_minor": 2
}
