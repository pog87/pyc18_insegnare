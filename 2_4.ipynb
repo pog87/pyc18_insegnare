{
 "cells": [
  {
   "cell_type": "markdown",
   "metadata": {},
   "source": [
    "# 2. Monomi e polinomi\n",
    "## 2.4. Verifica!"
   ]
  },
  {
   "cell_type": "markdown",
   "metadata": {},
   "source": [
    "\n",
    " <span style=\"color:blue\"> __1)</span> Scrivere una funzione python che verifichi se un polinomio è ordinato in modo crescente rispetto ad una variabile, __\n",
    " ossia che renda `True` se il polinomio è ordinato in senso crescente, `False` altrimenti\n",
    "\n",
    "\n",
    "<details>\n",
    "    <summary>__Risposta__</summary>\n",
    "```python\n",
    "def ordinato_crescente(p,var):\n",
    "    q=exponent(p,var)\n",
    "    return q==sorted(q)\n",
    "```\n",
    " "
   ]
  },
  {
   "cell_type": "markdown",
   "metadata": {},
   "source": [
    " <span style=\"color:blue\"> __2)</span> Scrivere una funzione python che verifichi se un polinomio è completo rispetto ad una variabile __ \n",
    "\n",
    "\n",
    "<details>\n",
    "    <summary>__Risposta__</summary>\n",
    "```python\n",
    "def completo(p,var):\n",
    "    q=sorted(exponent(p,var))\n",
    "    maxim=q[0]\n",
    "    return len(set(q))==maxim\n",
    "```"
   ]
  },
  {
   "cell_type": "markdown",
   "metadata": {},
   "source": [
    " <span style=\"color:blue\"> __3)</span> Scrivere una funzione python che verifichi se un polinomio è omogeneo __ \n",
    "\n",
    "\n",
    "<details>\n",
    "    <summary>__Risposta__</summary>\n",
    "```python\n",
    "def completo(p,var):\n",
    "    q=sorted(deg_monom(p))\n",
    "    return len(set(q))==1\n",
    "```"
   ]
  },
  {
   "cell_type": "markdown",
   "metadata": {},
   "source": [
    "### Un'altra possibilità per usare del codice semplice nello studio dei polinomi è scrivere un programma per il Teorema di Ruffini!"
   ]
  },
  {
   "cell_type": "code",
   "execution_count": 1,
   "metadata": {},
   "outputs": [],
   "source": [
    "def ruffini(a,b):\n",
    "    #teorema di Ruffini per divisione fra polinomi,\n",
    "    #'a' è lista, 'b' scalare, restituisce quoziente 'q' e resto 'r'\n",
    "    for i in range(1,len(a)):\n",
    "        a[i]=a[i]+a[i-1]*b\n",
    "    q=a[:-1]; r=a[-1]\n",
    "    return q,r"
   ]
  },
  {
   "cell_type": "markdown",
   "metadata": {},
   "source": [
    "Esempio: per calcolare la divisione fra $x^3-4x-2$ e $x+1$"
   ]
  },
  {
   "cell_type": "code",
   "execution_count": 2,
   "metadata": {},
   "outputs": [
    {
     "data": {
      "text/plain": [
       "([1, -1, -3], 1)"
      ]
     },
     "execution_count": 2,
     "metadata": {},
     "output_type": "execute_result"
    }
   ],
   "source": [
    "ruffini([1, 0, -4,-2],-1)"
   ]
  },
  {
   "cell_type": "markdown",
   "metadata": {},
   "source": [
    "Risposta: \n",
    "$$x^3-4x-2 = (x+1) (x^2-x-3)+1$$"
   ]
  }
 ],
 "metadata": {
  "kernelspec": {
   "display_name": "Python [default]",
   "language": "python",
   "name": "python2"
  },
  "language_info": {
   "codemirror_mode": {
    "name": "ipython",
    "version": 2
   },
   "file_extension": ".py",
   "mimetype": "text/x-python",
   "name": "python",
   "nbconvert_exporter": "python",
   "pygments_lexer": "ipython2",
   "version": "2.7.14"
  }
 },
 "nbformat": 4,
 "nbformat_minor": 2
}
