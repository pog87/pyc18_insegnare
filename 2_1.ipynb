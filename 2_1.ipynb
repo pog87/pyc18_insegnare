{
 "cells": [
  {
   "cell_type": "markdown",
   "metadata": {},
   "source": [
    "# 2. Monomi e polinomi\n",
    "## 2.1. Il pacchetto Sympy\n",
    "I pacchetti esterni sono il punto di forza di Python! Dietro ad ogniuno di questi pacchetti c'è una comunità attiva. I pacchetti più popolari vengono aggiornati e arricchiti continuamente, tanto che si sono resi necessari dei package manager come `conda` o `pip`.\n",
    "Un pacchetto semplice, con le sue punzioni e classi, può anche essere composto dall'utente e trovarsi nella working directory."
   ]
  },
  {
   "cell_type": "code",
   "execution_count": 1,
   "metadata": {},
   "outputs": [],
   "source": [
    "#come chiamare un pacchetto\n",
    "import os"
   ]
  },
  {
   "cell_type": "code",
   "execution_count": 4,
   "metadata": {},
   "outputs": [
    {
     "name": "stdout",
     "output_type": "stream",
     "text": [
      "['user_def.pyc', '.DS_Store', 'LICENSE', 'requirements.txt', '0_pres.ipynb', 'runtime.txt', 'requirements3.txt', '0_3.ipynb', 'README.md', '1_5.ipynb', '0_1.ipynb', 'prove sparse.ipynb', '1_1.ipynb', 'md', '1_3.ipynb', '.ipynb_checkpoints', '1_4.ipynb', 'user_def.py', '.git', '0_2.ipynb', '1_2.ipynb', 'index.ipynb', '2_1.ipynb']\n"
     ]
    }
   ],
   "source": [
    "# in questo caso tutte gli oggetti del pacchetto vanno chiamati con il prefisso \"os.\"\n",
    "print(os.listdir(\".\"))"
   ]
  },
  {
   "cell_type": "code",
   "execution_count": 7,
   "metadata": {},
   "outputs": [
    {
     "data": {
      "text/plain": [
       "array([0., 0., 0., 0.])"
      ]
     },
     "execution_count": 7,
     "metadata": {},
     "output_type": "execute_result"
    }
   ],
   "source": [
    "#un pacchetto può essere soprannominato\n",
    "import numpy as np\n",
    "np.zeros(4)"
   ]
  },
  {
   "cell_type": "code",
   "execution_count": 8,
   "metadata": {},
   "outputs": [
    {
     "data": {
      "text/plain": [
       "array([1., 1., 1., 1.])"
      ]
     },
     "execution_count": 8,
     "metadata": {},
     "output_type": "execute_result"
    }
   ],
   "source": [
    "#oppure posso importare uno specifico oggetto\n",
    "from numpy import ones\n",
    "ones(4)"
   ]
  },
  {
   "cell_type": "code",
   "execution_count": 9,
   "metadata": {},
   "outputs": [],
   "source": [
    "#infine, con sintassi simile posso importare tutto!\n",
    "from user_def import *"
   ]
  },
  {
   "cell_type": "markdown",
   "metadata": {},
   "source": [
    "### Il pacchetto sympy, il primo che studieremo, è un pacchetto di algebra simbolica, che permette di aggiungere diverse funzionalità a Python, alcune delle quali saranno trattate oggi.."
   ]
  },
  {
   "cell_type": "code",
   "execution_count": 11,
   "metadata": {},
   "outputs": [],
   "source": [
    "import sympy as s"
   ]
  },
  {
   "cell_type": "code",
   "execution_count": 12,
   "metadata": {},
   "outputs": [],
   "source": [
    "#carico le valriabili che userò\n",
    "x, y, z = s.symbols('x y z')"
   ]
  },
  {
   "cell_type": "code",
   "execution_count": 17,
   "metadata": {},
   "outputs": [
    {
     "data": {
      "text/plain": [
       "x**3 - x*y + 3*x*z"
      ]
     },
     "execution_count": 17,
     "metadata": {},
     "output_type": "execute_result"
    }
   ],
   "source": [
    "#scrivo la mia prima espressione\n",
    "a=x**3-y*x+3*x*z\n",
    "a"
   ]
  },
  {
   "cell_type": "code",
   "execution_count": 30,
   "metadata": {},
   "outputs": [
    {
     "data": {
      "text/plain": [
       "4*x**3 - x*y + 3*x*z"
      ]
     },
     "execution_count": 30,
     "metadata": {},
     "output_type": "execute_result"
    }
   ],
   "source": [
    "#semplici operazioni come + - sono automatiche\n",
    "a+3*x**3"
   ]
  },
  {
   "cell_type": "code",
   "execution_count": 18,
   "metadata": {},
   "outputs": [
    {
     "data": {
      "text/plain": [
       "(x**3 - x*y + 3*x*z)/x"
      ]
     },
     "execution_count": 18,
     "metadata": {},
     "output_type": "execute_result"
    }
   ],
   "source": [
    "#non tutto è automatico..\n",
    "a/x"
   ]
  },
  {
   "cell_type": "code",
   "execution_count": 31,
   "metadata": {},
   "outputs": [
    {
     "data": {
      "text/plain": [
       "x*(x**3 - x*y + 3*x*z)"
      ]
     },
     "execution_count": 31,
     "metadata": {},
     "output_type": "execute_result"
    }
   ],
   "source": [
    "a*x"
   ]
  },
  {
   "cell_type": "code",
   "execution_count": 19,
   "metadata": {},
   "outputs": [
    {
     "data": {
      "text/plain": [
       "x**2 - y + 3*z"
      ]
     },
     "execution_count": 19,
     "metadata": {},
     "output_type": "execute_result"
    }
   ],
   "source": [
    "#simplify risolve questi empasses\n",
    "s.simplify(a/x)"
   ]
  },
  {
   "cell_type": "code",
   "execution_count": 28,
   "metadata": {},
   "outputs": [
    {
     "data": {
      "text/plain": [
       "x*(x**2 - y + 3*z)"
      ]
     },
     "execution_count": 28,
     "metadata": {},
     "output_type": "execute_result"
    }
   ],
   "source": [
    "#factor invece raccoglie i termini\n",
    "s.factor(a)"
   ]
  },
  {
   "cell_type": "code",
   "execution_count": 25,
   "metadata": {},
   "outputs": [
    {
     "data": {
      "text/plain": [
       "8*x**4 - 8*x**2 + 1"
      ]
     },
     "execution_count": 25,
     "metadata": {},
     "output_type": "execute_result"
    }
   ],
   "source": [
    "#sympy ha anche una libreria di polinomi predefinita\n",
    "s.chebyshevt_poly(4,x)"
   ]
  },
  {
   "cell_type": "code",
   "execution_count": 20,
   "metadata": {},
   "outputs": [
    {
     "data": {
      "text/plain": [
       "'x^{3} - x y + 3 x z'"
      ]
     },
     "execution_count": 20,
     "metadata": {},
     "output_type": "execute_result"
    }
   ],
   "source": [
    "#ogni espressione può essere esporatata in LaTeX!\n",
    "s.latex(a)"
   ]
  }
 ],
 "metadata": {
  "kernelspec": {
   "display_name": "Python [default]",
   "language": "python",
   "name": "python2"
  },
  "language_info": {
   "codemirror_mode": {
    "name": "ipython",
    "version": 2
   },
   "file_extension": ".py",
   "mimetype": "text/x-python",
   "name": "python",
   "nbconvert_exporter": "python",
   "pygments_lexer": "ipython2",
   "version": "2.7.14"
  }
 },
 "nbformat": 4,
 "nbformat_minor": 2
}
