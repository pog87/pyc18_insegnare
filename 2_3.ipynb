{
 "cells": [
  {
   "cell_type": "markdown",
   "metadata": {},
   "source": [
    "# 2. Monomi e polinomi\n",
    "## 2.3. Costruzione di funzioni ausiliarie\n",
    "come abbiamo visto, alcui risultati non sono quelli che insegnamo ai nostri ragazzi...meglio non mostrare queste funzioni agli studenti! Per l'occasione ho costrito delle funzioni ausiliarie."
   ]
  },
  {
   "cell_type": "code",
   "execution_count": 1,
   "metadata": {},
   "outputs": [],
   "source": [
    "import sympy as s\n",
    "x, y, z = s.symbols('x y z')\n",
    "s.init_printing()"
   ]
  },
  {
   "cell_type": "code",
   "execution_count": 4,
   "metadata": {},
   "outputs": [
    {
     "data": {
      "image/png": "[encoded data removed]",
      "text/latex": [
       "$$\\operatorname{Poly}{\\left( 5 x^{3} - 2 x y - 7 y^{3} + 1, x, y, domain=\\mathbb{Z} \\right)}$$"
      ],
      "text/plain": [
       "Poly(5*x**3 - 2*x*y - 7*y**3 + 1, x, y, domain='ZZ')"
      ]
     },
     "execution_count": 4,
     "metadata": {},
     "output_type": "execute_result"
    }
   ],
   "source": [
    "a=s.Poly(5*x**3-2*y*x-7*y**3+1)\n",
    "a"
   ]
  },
  {
   "cell_type": "code",
   "execution_count": 5,
   "metadata": {},
   "outputs": [
    {
     "data": {
      "image/png": "[encoded data removed]",
      "text/latex": [
       "$$\\left [ 5, \\quad -2, \\quad -7, \\quad 1\\right ]$$"
      ],
      "text/plain": [
       "[5, -2, -7, 1]"
      ]
     },
     "execution_count": 5,
     "metadata": {},
     "output_type": "execute_result"
    }
   ],
   "source": [
    "a.coeffs()"
   ]
  },
  {
   "cell_type": "code",
   "execution_count": 6,
   "metadata": {},
   "outputs": [],
   "source": [
    "#importiamo le funzioni\n",
    "from user_def import *"
   ]
  },
  {
   "cell_type": "code",
   "execution_count": 12,
   "metadata": {},
   "outputs": [
    {
     "data": {
      "image/png": "[encoded data removed]",
      "text/latex": [
       "$$\\left [ 5, \\quad -2, \\quad -7, \\quad 1\\right ]$$"
      ],
      "text/plain": [
       "[5, -2, -7, 1]"
      ]
     },
     "execution_count": 12,
     "metadata": {},
     "output_type": "execute_result"
    }
   ],
   "source": [
    "#coefficienti\n",
    "coeff(a)"
   ]
  },
  {
   "cell_type": "code",
   "execution_count": 7,
   "metadata": {},
   "outputs": [
    {
     "data": {
      "image/png": "[encoded data removed]",
      "text/latex": [
       "$$\\left [ \\operatorname{Poly}{\\left( 5 x^{3}, x, y, domain=\\mathbb{Z} \\right)}, \\quad \\operatorname{Poly}{\\left( - 2 x y, x, y, domain=\\mathbb{Z} \\right)}, \\quad \\operatorname{Poly}{\\left( - 7 y^{3}, x, y, domain=\\mathbb{Z} \\right)}, \\quad \\operatorname{Poly}{\\left( 1, x, y, domain=\\mathbb{Z} \\right)}\\right ]$$"
      ],
      "text/plain": [
       "[Poly(5*x**3, x, y, domain='ZZ'), Poly(-2*x*y, x, y, domain='ZZ'), Poly(-7*y**\n",
       "3, x, y, domain='ZZ'), Poly(1, x, y, domain='ZZ')]"
      ]
     },
     "execution_count": 7,
     "metadata": {},
     "output_type": "execute_result"
    }
   ],
   "source": [
    "#divido il polinomio nei monomi che lo compongono\n",
    "t=terms_list(a)\n",
    "t"
   ]
  },
  {
   "cell_type": "code",
   "execution_count": 8,
   "metadata": {},
   "outputs": [
    {
     "data": {
      "text/plain": [
       "True"
      ]
     },
     "execution_count": 8,
     "metadata": {},
     "output_type": "execute_result"
    }
   ],
   "source": [
    "t[0].is_monomial"
   ]
  },
  {
   "cell_type": "code",
   "execution_count": 9,
   "metadata": {},
   "outputs": [
    {
     "data": {
      "image/png": "[encoded data removed]",
      "text/latex": [
       "$$\\left [ 3, \\quad 1, \\quad 0, \\quad 0\\right ]$$"
      ],
      "text/plain": [
       "[3, 1, 0, 0]"
      ]
     },
     "execution_count": 9,
     "metadata": {},
     "output_type": "execute_result"
    }
   ],
   "source": [
    "#esponenti rispetto ad una variabile...\n",
    "exponents(a,x)"
   ]
  },
  {
   "cell_type": "code",
   "execution_count": 10,
   "metadata": {},
   "outputs": [
    {
     "data": {
      "image/png": "[encoded data removed]",
      "text/latex": [
       "$$\\left [ 0, \\quad 1, \\quad 3, \\quad 0\\right ]$$"
      ],
      "text/plain": [
       "[0, 1, 3, 0]"
      ]
     },
     "execution_count": 10,
     "metadata": {},
     "output_type": "execute_result"
    }
   ],
   "source": [
    "#e un'altra\n",
    "exponents(a,y)"
   ]
  },
  {
   "cell_type": "code",
   "execution_count": 11,
   "metadata": {},
   "outputs": [
    {
     "data": {
      "image/png": "[encoded data removed]",
      "text/latex": [
       "$$\\left [ 0, \\quad 0, \\quad 0, \\quad 0\\right ]$$"
      ],
      "text/plain": [
       "[0, 0, 0, 0]"
      ]
     },
     "execution_count": 11,
     "metadata": {},
     "output_type": "execute_result"
    }
   ],
   "source": [
    "exponents(a,z)"
   ]
  },
  {
   "cell_type": "code",
   "execution_count": 13,
   "metadata": {},
   "outputs": [
    {
     "data": {
      "image/png": "[encoded data removed]",
      "text/latex": [
       "$$\\left [ 3, \\quad 2, \\quad 3, \\quad 0\\right ]$$"
      ],
      "text/plain": [
       "[3, 2, 3, 0]"
      ]
     },
     "execution_count": 13,
     "metadata": {},
     "output_type": "execute_result"
    }
   ],
   "source": [
    "#grado complessivo di ogni monomio\n",
    "deg_monom(a)"
   ]
  },
  {
   "cell_type": "code",
   "execution_count": 14,
   "metadata": {},
   "outputs": [
    {
     "data": {
      "image/png": "[encoded data removed]",
      "text/latex": [
       "$$3$$"
      ],
      "text/plain": [
       "3"
      ]
     },
     "execution_count": 14,
     "metadata": {},
     "output_type": "execute_result"
    }
   ],
   "source": [
    "#da cui poi ricavare il grado complessivo in modo semplice\n",
    "max(deg_monom(a))"
   ]
  }
 ],
 "metadata": {
  "kernelspec": {
   "display_name": "Python [default]",
   "language": "python",
   "name": "python2"
  },
  "language_info": {
   "codemirror_mode": {
    "name": "ipython",
    "version": 2
   },
   "file_extension": ".py",
   "mimetype": "text/x-python",
   "name": "python",
   "nbconvert_exporter": "python",
   "pygments_lexer": "ipython2",
   "version": "2.7.14"
  }
 },
 "nbformat": 4,
 "nbformat_minor": 2
}
