{
 "cells": [
  {
   "cell_type": "markdown",
   "metadata": {},
   "source": [
    "# 1. Insiemi e logica\n",
    "## 1.5. Verificare le competenze"
   ]
  },
  {
   "cell_type": "markdown",
   "metadata": {},
   "source": [
    "Le verifiche possono anche prescindere dall'uso del calcolatore e non richiedere competenze specifiche di python."
   ]
  },
  {
   "cell_type": "markdown",
   "metadata": {},
   "source": [
    "Esempio: \n",
    "\n",
    " <span style=\"color:blue\"> __1)</span> Completare la definizione della funzione Python per l'intersezione di insiemi__ \n",
    "\n",
    "```python\n",
    "def intersezione(A,B):\n",
    "    return {x for x in list(A)+list(B) if x in A ___ x in B}\n",
    "```\n",
    " \n",
    "<details>\n",
    "    <summary>__Risposta__</summary>\n",
    "```python\n",
    "def intersezione(A,B):\n",
    "    return {x for x in list(A)+list(B) if x in A and x in B}\n",
    "```"
   ]
  },
  {
   "cell_type": "markdown",
   "metadata": {},
   "source": [
    "In alternativa, se il laboratorio è a disposizione, si possono richiedere anche semplici esercizi presi dal libro di testo, ma scritto in Python"
   ]
  },
  {
   "cell_type": "markdown",
   "metadata": {},
   "source": [
    "<span style=\"color:blue\">__2)</span> Dati gli insiemi__\n",
    "$$A=\\left\\lbrace \\mbox{ x | x è una lettera della parola \"albero\"  } \\right\\rbrace$$\n",
    "$$B=\\left\\lbrace  \\mbox{ x | x è una lettera della parola \"labile\"  } \\right\\rbrace$$\n",
    "$$C=\\left\\lbrace  \\mbox{ x | x è una lettera della parola \"connessione\"  } \\right\\rbrace$$\n",
    "__trova i seguenti insiemi:__ \n",
    "\n",
    " 1. $(A\\cap B)-C$\n",
    " 2. $(A\\cup B)-C$\n",
    " 3. $(A - B)\\cup C$\n",
    " \n",
    "<details>\n",
    "    <summary>__Risposta__</summary>\n",
    "```python\n",
    "A={x for x in \"albero\"}\n",
    "B={x for x in \"labile\"}\n",
    "C={x for x in \"connessione\"}\n",
    "\n",
    "R1=(A&B)-C\n",
    "R2=(A|B)-C\n",
    "R3=(A-C)|C\n",
    "```"
   ]
  }
 ],
 "metadata": {
  "kernelspec": {
   "display_name": "Python [default]",
   "language": "python",
   "name": "python2"
  },
  "language_info": {
   "codemirror_mode": {
    "name": "ipython",
    "version": 2
   },
   "file_extension": ".py",
   "mimetype": "text/x-python",
   "name": "python",
   "nbconvert_exporter": "python",
   "pygments_lexer": "ipython2",
   "version": "2.7.14"
  }
 },
 "nbformat": 4,
 "nbformat_minor": 2
}
