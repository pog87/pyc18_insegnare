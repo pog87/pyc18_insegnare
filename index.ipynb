{
 "cells": [
  {
   "cell_type": "markdown",
   "metadata": {},
   "source": [
    "## [Presentazioni](00_pres.ipynb)"
   ]
  },
  {
   "cell_type": "markdown",
   "metadata": {},
   "source": [
    "## 0. Scripting in Python\n",
    "0.1. [Primi passi](0_1.ipynb)\n",
    "\n",
    "0.2. [Tipi di Variabili](0_2.ipynb)\n",
    "\n",
    "0.3. [Cicli e condizioni](0_3.ipynb)"
   ]
  },
  {
   "cell_type": "markdown",
   "metadata": {},
   "source": [
    "## 1. Insiemi e logica\n",
    "1.1. [Operatori booleani](1_1.ipynb)\n",
    "\n",
    "1.2. [Gli insiemi in python](1_2.ipynb)\n",
    "\n",
    "1.3. [Definizioni e funzioni](1_3.ipynb)\n",
    "\n",
    "1.4. [Ridefinire per comprendere](1_4.ipynb)\n",
    "\n",
    "1.5. [Verificare le competenze](1_5.ipynb)"
   ]
  },
  {
   "cell_type": "markdown",
   "metadata": {},
   "source": [
    "## 2. Monomi e polinomi\n",
    "2.1. [Il pacchetto Sympy](2_1.ipynb)\n",
    "\n",
    "2.2. [Monomi e polinomi](2_2.ipynb)\n",
    "\n",
    "2.3. [Costruzione di funzioni ausiliarie](2_3.ipynb)\n",
    "\n",
    "2.4. [Verifica](2_4.ipynb)"
   ]
  },
  {
   "cell_type": "markdown",
   "metadata": {},
   "source": [
    "## 3. Frazioni algebriche\n",
    "\n",
    "3.1. [MCD e mcm](3_1.ipynb)\n",
    "\n",
    "3.2. [Somma di frazioni algebriche](3_2.ipynb)\n",
    "\n",
    "3.3. [Verifica](3_3.ipynb)"
   ]
  },
  {
   "cell_type": "markdown",
   "metadata": {},
   "source": [
    "## 4. Geometria cartesiana\n",
    "\n",
    "4.1. [Punti, rette, circonferenze, triangoli](4_1.ipynb)\n",
    "\n",
    "4.2. [Appartenenza, Distanza, tangenza](4_2.ipynb)\n",
    "\n",
    "4.3. [Verifica](4_3.ipynb)"
   ]
  },
  {
   "cell_type": "markdown",
   "metadata": {},
   "source": [
    "## 5. Coniche\n",
    "\n",
    "5.1. [Parabole e Ellissi](5_1.ipynb)\n",
    "\n",
    "5.2. [Tangenti per un punto](5_2.ipynb)\n",
    "\n",
    "5.3. [Verifica](5_3.ipynb)\n"
   ]
  },
  {
   "cell_type": "markdown",
   "metadata": {},
   "source": [
    "## 6. Sistemi di equazioni lineari\n",
    "\n",
    "6.1. [Introduzione a numpy](6_1.ipynb)\n",
    "\n",
    "6.2. [Cramer contro Gauss](6_2.ipynb)\n",
    "\n",
    "6.3. [Verifica](6_3.ipynb)"
   ]
  },
  {
   "cell_type": "markdown",
   "metadata": {},
   "source": [
    "## 7. Studio di funzione\n",
    "7.1. [Grafici in numpy e matplotlib](7_1.ipynb)\n",
    "\n",
    "7.2. [Limiti e derivate in sympy](7_2.ipynb)\n",
    "\n",
    "7.3. [Verifica](7_3.ipynb)"
   ]
  },
  {
   "cell_type": "code",
   "execution_count": null,
   "metadata": {},
   "outputs": [],
   "source": []
  }
 ],
 "metadata": {
  "kernelspec": {
   "display_name": "Python [default]",
   "language": "python",
   "name": "python2"
  },
  "language_info": {
   "codemirror_mode": {
    "name": "ipython",
    "version": 2
   },
   "file_extension": ".py",
   "mimetype": "text/x-python",
   "name": "python",
   "nbconvert_exporter": "python",
   "pygments_lexer": "ipython2",
   "version": "2.7.14"
  }
 },
 "nbformat": 4,
 "nbformat_minor": 2
}
