{
 "cells": [
  {
   "cell_type": "markdown",
   "metadata": {},
   "source": [
    "## 0. Scripting in Python\n",
    "0.1. [Primi passi](0_1.ipynb)\n",
    "\n",
    "0.2. [Tipi di Variabili](0_2.ipynb)\n",
    "\n",
    "0.3. [Cicli e condizioni](0_3.ipynb)"
   ]
  },
  {
   "cell_type": "markdown",
   "metadata": {},
   "source": [
    "## 1. Insiemi e logica\n",
    "1.1. [Operatori booleani](1_1.ipynb)\n",
    "\n",
    "1.2. [Gli insiemi in python](1_2.ipynb)\n",
    "\n",
    "1.3. [Definizioni e funzioni](1_3.ipynb)\n",
    "\n",
    "1.4. [Ridefinire per comprendere](1_4.ipynb)\n",
    "\n",
    "1.5. [Verificare le competenze](1_5.ipynb)"
   ]
  },
  {
   "cell_type": "markdown",
   "metadata": {},
   "source": [
    "## 2. Monomi e polinomi\n",
    "2.1. [Il pacchetto Sympy](2_1.ipynb)\n",
    "\n",
    "2.2. [Monomi e polinomi](2_2.ipynb)\n",
    "\n",
    "2.3. [Costruzione di funzioni ausiliarie](2_3.ipynb)\n",
    "\n",
    "2.4. [Verifica](2_3.ipynb)"
   ]
  },
  {
   "cell_type": "code",
   "execution_count": null,
   "metadata": {},
   "outputs": [],
   "source": []
  }
 ],
 "metadata": {
  "kernelspec": {
   "display_name": "Python [default]",
   "language": "python",
   "name": "python2"
  },
  "language_info": {
   "codemirror_mode": {
    "name": "ipython",
    "version": 2
   },
   "file_extension": ".py",
   "mimetype": "text/x-python",
   "name": "python",
   "nbconvert_exporter": "python",
   "pygments_lexer": "ipython2",
   "version": "2.7.14"
  }
 },
 "nbformat": 4,
 "nbformat_minor": 2
}
